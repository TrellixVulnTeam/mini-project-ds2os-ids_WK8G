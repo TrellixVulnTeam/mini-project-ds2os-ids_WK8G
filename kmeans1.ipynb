{
 "cells": [
  {
   "cell_type": "code",
   "execution_count": 8,
   "metadata": {
    "collapsed": false
   },
   "outputs": [
    {
     "name": "stdout",
     "output_type": "stream",
     "text": [
      "Accuracy: 0.13432325024270658\n"
     ]
    }
   ],
   "source": [
    "import numpy as np\n",
    "from sklearn.model_selection import train_test_split\n",
    "from sklearn.cluster import KMeans\n",
    "from sklearn.preprocessing import LabelEncoder\n",
    "from sklearn.preprocessing import MinMaxScaler\n",
    "import seaborn as sns\n",
    "import matplotlib.pyplot as plt\n",
    "%matplotlib inline\n",
    "import pandas as pd\n",
    "from sklearn import metrics\n",
    "\n",
    "data1 = pd.read_csv('ds2os_coded.csv')\n",
    "\n",
    "names=['accessedNodeAddress_code','accessedNodeType_code','timestamp','sourceID_code','sourceAddress_code','sourceType_code','sourceLocation_code','destinationServiceAddress_code','destinationServiceType_code','destinationLocation_code']\n",
    "x=data1[names]\n",
    "y=data1['normality_code']\n",
    "\n",
    "x_train,x_test,y_train,y_test=train_test_split(x,y,test_size=0.4,random_state=1)\n",
    "\n",
    "k=KMeans(n_clusters=8)\n",
    "k.fit(x_train,y_train)\n",
    "\n",
    "z=k.predict(x_test)\n",
    "\n",
    "print(\"Accuracy:\",metrics.accuracy_score(y_test, z))"
   ]
  },
  {
   "cell_type": "code",
   "execution_count": 0,
   "metadata": {
    "collapsed": false
   },
   "outputs": [
   ],
   "source": [
    "\n"
   ]
  }
 ],
 "metadata": {
  "kernelspec": {
   "display_name": "Python 3 (system-wide)",
   "language": "python",
   "metadata": {
    "cocalc": {
     "description": "Python 3 programming language",
     "priority": 100,
     "url": "https://www.python.org/"
    }
   },
   "name": "python3"
  },
  "language_info": {
   "codemirror_mode": {
    "name": "ipython",
    "version": 3
   },
   "file_extension": ".py",
   "mimetype": "text/x-python",
   "name": "python",
   "nbconvert_exporter": "python",
   "pygments_lexer": "ipython3",
   "version": "3.6.8"
  }
 },
 "nbformat": 4,
 "nbformat_minor": 0
}